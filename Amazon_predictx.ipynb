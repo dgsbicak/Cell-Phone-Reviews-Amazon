{
 "cells": [
  {
   "cell_type": "code",
   "execution_count": 117,
   "metadata": {},
   "outputs": [],
   "source": [
    "import pandas as pd\n",
    "import os\n",
    "import numpy as np\n",
    "from sklearn.metrics import mean_squared_log_error\n",
    "import string\n",
    "from nltk.corpus import stopwords\n",
    "import time\n",
    "os.chdir(r\"...\\Amazon Project\")"
   ]
  },
  {
   "cell_type": "code",
   "execution_count": 125,
   "metadata": {},
   "outputs": [],
   "source": [
    "data = pd.read_csv('AMAZON_comments1.csv',dtype=str)\n",
    "df = data.copy()\n",
    "df = df.dropna(axis=0)\n",
    "text = df['Text']"
   ]
  },
  {
   "cell_type": "code",
   "execution_count": 121,
   "metadata": {},
   "outputs": [],
   "source": [
    "def stop_punch(text):\n",
    "    # Clean out all the stopwords\n",
    "    stext = [word for word in text.lower().split() if word not in set(stopwords.words('english'))]\n",
    "    ftext = ' '.join(stext)\n",
    "    \n",
    "    # Clean out all the punctuations\n",
    "    stext = [word for word in ftext if word not in set(string.punctuation)]\n",
    "    ftext = ''.join(stext)\n",
    "    return ftext"
   ]
  },
  {
   "cell_type": "code",
   "execution_count": 128,
   "metadata": {},
   "outputs": [],
   "source": [
    "# Clean some of the repetitive words.\n",
    "text = text.apply(lambda x: x.replace('Format',\"\"))\n",
    "text = text.apply(lambda x: x.replace('Wireless Phone Accessory',\"\"))\n",
    "text = text.apply(lambda x: x.replace('Color',\"\"))\n",
    "text = text.apply(lambda x: x.replace('Verified Purchase',\"\"))\n",
    "text = text.apply(lambda x: x.replace('people found this helpful',\"\"))"
   ]
  },
  {
   "cell_type": "code",
   "execution_count": 129,
   "metadata": {},
   "outputs": [
    {
     "name": "stdout",
     "output_type": "stream",
     "text": [
      "Completed within 902.2 seconds.\n"
     ]
    }
   ],
   "source": [
    "t0 = time.time()\n",
    "text = text.apply(stop_punch)\n",
    "print(\"Completed within %0.1f seconds.\" % (time.time() - t0))"
   ]
  },
  {
   "cell_type": "code",
   "execution_count": 84,
   "metadata": {},
   "outputs": [
    {
     "data": {
      "text/plain": [
       "'You wont believe what you get for 50 bucks\\r\\r\\nByLuisP8on June 18 2016\\r\\r\\nColor Black\\r\\r\\nVerified Purchase\\r\\r\\nI must say and admit I was a little concerned about this choice after I bought it but I said Well what the heck lets give it a try It was for my mom anyway but on paper it looked like a nice budget phone and also I had extra concerns cause Im not from usa so retuning this was out of the table I had to accept whatever came on the box Fortunately I was wrong The product came in perfect condition and brand new of course no problems with packaging or shipping And after first hands on the phone you wont believe you pay 60 bucks after taxes and handling for this phone I MEAN IT This guys BLU Inc  are doing an awesome job with budget phones This phone is really awesome Of course it doesnt look fancy or premium because its obviously plastic but you fell like you have a 500 phone in your hands\\r\\r\\nSo if you are looking for a budget phone DO NOT hesitate of this one you wont be sorry\\r\\r\\n410 people found this helpful\\r\\r\\nHelpful\\r\\r\\nNot Helpful\\r\\r\\n5 comments\\r\\r\\nReport abuse'"
      ]
     },
     "execution_count": 84,
     "metadata": {},
     "output_type": "execute_result"
    }
   ],
   "source": [
    "text[0]"
   ]
  },
  {
   "cell_type": "code",
   "execution_count": 135,
   "metadata": {},
   "outputs": [
    {
     "data": {
      "text/plain": [
       "'believe get 50 bucks byluisp8on june 18 2016  black must say admit little concerned choice bought said well heck lets give try mom anyway paper looked like nice budget phone also extra concerns cause im usa retuning table accept whatever came box fortunately wrong product came perfect condition brand new course problems packaging shipping first hands phone believe pay 60 bucks after taxes handling phone mean it guys blu inc  awesome job budget phones phone really awesome course look fancy premium obviously plastic fell like 500 phone hands looking budget phone hesitate one sorry 410 helpful helpful 5 comments report abuse'"
      ]
     },
     "execution_count": 135,
     "metadata": {},
     "output_type": "execute_result"
    }
   ],
   "source": [
    "text[0]"
   ]
  },
  {
   "cell_type": "markdown",
   "metadata": {},
   "source": [
    "# Vectorization\n",
    "\n",
    "### CountVectorizer"
   ]
  },
  {
   "cell_type": "code",
   "execution_count": 139,
   "metadata": {},
   "outputs": [],
   "source": [
    "from sklearn.feature_extraction.text import TfidfTransformer, TfidfVectorizer, CountVectorizer\n",
    "count_vec = CountVectorizer(ngram_range=(1, 3),\n",
    "                            max_df=0.50,\n",
    "                            analyzer='word',\n",
    "                           token_pattern = r'\\w{2,}'\n",
    "                           )\n",
    "feature_train_counts = count_vec.fit(text)\n",
    "bag_of_words = feature_train_counts.transform(text)\n",
    "\n",
    "from sklearn.model_selection import train_test_split\n",
    "X = bag_of_words \n",
    "y = df['Stars'].astype(float)\n",
    "feature_train, feature_test, label_train, label_test = train_test_split(X, y, test_size=0.33, shuffle=True)"
   ]
  },
  {
   "cell_type": "code",
   "execution_count": 140,
   "metadata": {},
   "outputs": [
    {
     "data": {
      "text/plain": [
       "<50460x1916715 sparse matrix of type '<class 'numpy.int64'>'\n",
       "\twith 5747177 stored elements in Compressed Sparse Row format>"
      ]
     },
     "execution_count": 140,
     "metadata": {},
     "output_type": "execute_result"
    }
   ],
   "source": [
    "bag_of_words"
   ]
  },
  {
   "cell_type": "markdown",
   "metadata": {},
   "source": [
    "# Model Building"
   ]
  },
  {
   "cell_type": "markdown",
   "metadata": {},
   "source": [
    "## SGDClassifier"
   ]
  },
  {
   "cell_type": "code",
   "execution_count": 146,
   "metadata": {},
   "outputs": [
    {
     "name": "stderr",
     "output_type": "stream",
     "text": [
      "c:\\users\\dogus\\appdata\\local\\programs\\python\\python36\\lib\\site-packages\\sklearn\\linear_model\\stochastic_gradient.py:128: FutureWarning: max_iter and tol parameters have been added in <class 'sklearn.linear_model.stochastic_gradient.SGDClassifier'> in 0.19. If both are left unset, they default to max_iter=5 and tol=None. If tol is not None, max_iter defaults to max_iter=1000. From 0.21, default max_iter will be 1000, and default tol will be 1e-3.\n",
      "  \"and default tol will be 1e-3.\" % type(self), FutureWarning)\n"
     ]
    },
    {
     "name": "stdout",
     "output_type": "stream",
     "text": [
      "[[3292  101   64   53  122]\n",
      " [ 452  520   96   57   90]\n",
      " [ 258  103  762  211  207]\n",
      " [  88   32  106 1703  730]\n",
      " [ 104   22   40  326 7113]]\n",
      "             precision    recall  f1-score   support\n",
      "\n",
      "        1.0       0.78      0.91      0.84      3632\n",
      "        2.0       0.67      0.43      0.52      1215\n",
      "        3.0       0.71      0.49      0.58      1541\n",
      "        4.0       0.72      0.64      0.68      2659\n",
      "        5.0       0.86      0.94      0.90      7605\n",
      "\n",
      "avg / total       0.79      0.80      0.79     16652\n",
      "\n",
      "Valid RMSLE: 0.2221\n",
      "F1_score : 80.41% \n",
      "Log_loss : 0.7619 \n"
     ]
    },
    {
     "data": {
      "text/plain": [
       "'\\nValid RMSLE: 0.2126\\nF1_score : 80.53% \\nLog_loss : 1.3345 \\n\\nValid RMSLE: 0.2194\\nF1_score : 80.47% \\nLog_loss : 0.7738 \\n\\nValid RMSLE: 0.2286\\nF1_score : 80.48% \\nLog_loss : 0.7692  # trimmed a little\\n'"
      ]
     },
     "execution_count": 146,
     "metadata": {},
     "output_type": "execute_result"
    }
   ],
   "source": [
    "from sklearn.linear_model import SGDClassifier\n",
    "from sklearn.metrics import confusion_matrix, classification_report\n",
    "from sklearn.metrics import f1_score, log_loss\n",
    "\n",
    "clf = SGDClassifier(loss='log').fit(feature_train, label_train)\n",
    "preds_sgd = clf.predict(feature_test)\n",
    "preds_proba = clf.predict_proba(feature_test)\n",
    "\n",
    "print(confusion_matrix(label_test, preds_sgd))\n",
    "print(classification_report(label_test, preds_sgd))\n",
    "print('Valid RMSLE: {:.4f}'.format(np.sqrt(mean_squared_log_error(label_test, preds_sgd))))\n",
    "print(\"F1_score : {:.2%} \".format(f1_score(label_test, preds_sgd, average='micro')))  # 'samples', 'weighted', 'macro', 'micro', 'binary'\n",
    "print(\"Log_loss : {:.4f} \".format(log_loss(label_test, preds_proba)))\n",
    "\n",
    "\n",
    "\"\"\"\n",
    "Valid RMSLE: 0.2126\n",
    "F1_score : 80.53% \n",
    "Log_loss : 1.3345 \n",
    "\n",
    "Valid RMSLE: 0.2194\n",
    "F1_score : 80.47% \n",
    "Log_loss : 0.7738 \n",
    "\n",
    "Valid RMSLE: 0.2286\n",
    "F1_score : 80.48% \n",
    "Log_loss : 0.7692  # trimmed a little\n",
    "\"\"\""
   ]
  },
  {
   "cell_type": "markdown",
   "metadata": {},
   "source": [
    "## LogisticRegression"
   ]
  },
  {
   "cell_type": "code",
   "execution_count": 142,
   "metadata": {},
   "outputs": [
    {
     "name": "stdout",
     "output_type": "stream",
     "text": [
      "[[3271  107   64   56  134]\n",
      " [ 420  529   99   61  106]\n",
      " [ 258   87  786  185  225]\n",
      " [  83   37  107 1649  783]\n",
      " [ 104   17   46  260 7178]]\n",
      "             precision    recall  f1-score   support\n",
      "\n",
      "        1.0       0.79      0.90      0.84      3632\n",
      "        2.0       0.68      0.44      0.53      1215\n",
      "        3.0       0.71      0.51      0.59      1541\n",
      "        4.0       0.75      0.62      0.68      2659\n",
      "        5.0       0.85      0.94      0.90      7605\n",
      "\n",
      "avg / total       0.80      0.81      0.79     16652\n",
      "\n",
      "Valid RMSLE: 0.2245\n",
      "F1_score : 80.55% \n",
      "Log_loss : 0.8122 \n"
     ]
    }
   ],
   "source": [
    "from sklearn.linear_model import LogisticRegression\n",
    "\n",
    "clf = LogisticRegression(C=10).fit(feature_train, label_train)\n",
    "preds_lr = clf.predict(feature_test)\n",
    "preds_proba = clf.predict_proba(feature_test)\n",
    "\n",
    "print(confusion_matrix(label_test, preds_lr))\n",
    "print(classification_report(label_test, preds_lr))\n",
    "print('Valid RMSLE: {:.4f}'.format(np.sqrt(mean_squared_log_error(label_test, preds_lr))))\n",
    "print(\"F1_score : {:.2%} \".format(f1_score(label_test, preds_lr, average='micro')))  # 'samples', 'weighted', 'macro', 'micro', 'binary'\n",
    "print(\"Log_loss : {:.4f} \".format(log_loss(label_test, preds_proba)))"
   ]
  },
  {
   "cell_type": "code",
   "execution_count": null,
   "metadata": {},
   "outputs": [],
   "source": [
    "\"\"\"\n",
    "Valid RMSLE: 0.2063\n",
    "F1_score : 81.20% \n",
    "Log_loss : 0.8746 \n",
    "\n",
    "Valid RMSLE: 0.2207\n",
    "F1_score : 80.30% \n",
    "Log_loss : 0.8388 \n",
    "\n",
    "Valid RMSLE: 0.2270\n",
    "F1_score : 80.54% \n",
    "Log_loss : 0.8218 # trimmed a little\n",
    "\"\"\""
   ]
  }
 ],
 "metadata": {
  "kernelspec": {
   "display_name": "Python 3",
   "language": "python",
   "name": "python3"
  },
  "language_info": {
   "codemirror_mode": {
    "name": "ipython",
    "version": 3
   },
   "file_extension": ".py",
   "mimetype": "text/x-python",
   "name": "python",
   "nbconvert_exporter": "python",
   "pygments_lexer": "ipython3",
   "version": "3.6.6"
  }
 },
 "nbformat": 4,
 "nbformat_minor": 2
}
